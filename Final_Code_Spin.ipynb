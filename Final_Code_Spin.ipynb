{
 "cells": [
  {
   "cell_type": "markdown",
   "id": "a1bc39ab-2f10-4a25-9586-e1883c750ca1",
   "metadata": {},
   "source": [
    "# Libs. to import"
   ]
  },
  {
   "cell_type": "code",
   "execution_count": null,
   "id": "564ffb12-b736-4672-9794-cd5fc518557d",
   "metadata": {},
   "outputs": [],
   "source": [
    "import time\n",
    "from qiskit.circuit.library import RealAmplitudes\n",
    "from qiskit_algorithms import VQE\n",
    "from qiskit_algorithms.optimizers import COBYLA,SLSQP\n",
    "from qiskit_ibm_runtime import EstimatorV2\n",
    "from qiskit.primitives import Estimator\n",
    "from qiskit.circuit.library import EfficientSU2\n",
    "from qiskit_aer import Aer\n",
    "from qiskit_aer import AerSimulator, QasmSimulator, StatevectorSimulator\n",
    "from qiskit import transpile\n",
    "from qiskit_ibm_runtime import QiskitRuntimeService, runtime_job\n",
    "from qiskit_nature.second_q.hamiltonians import HeisenbergModel\n",
    "from qiskit_nature.second_q.problems import LatticeModelProblem\n",
    "from qiskit_nature.second_q.mappers import *\n",
    "from qiskit_nature.second_q.algorithms import GroundStateEigensolver\n",
    "from qiskit import visualization\n",
    "from qiskit_algorithms import NumPyMinimumEigensolver\n",
    "import numpy as np\n",
    "from math import pi\n",
    "import rustworkx as rx\n",
    "from qiskit_nature.second_q.hamiltonians.lattices import ( BoundaryCondition, \n",
    "Lattice,\n",
    "LatticeDrawStyle,\n",
    "LineLattice)\n",
    "from qiskit.transpiler.preset_passmanagers import generate_preset_pass_manager\n",
    "from qiskit_ibm_runtime import QiskitRuntimeService\n",
    "import pandas as pd\n",
    "import ace_tools_open as tools"
   ]
  },
  {
   "cell_type": "markdown",
   "id": "81ee097f-9437-4e2e-8d85-a96fd5d3f7c1",
   "metadata": {},
   "source": [
    "# IBM Account Loading"
   ]
  },
  {
   "cell_type": "code",
   "execution_count": null,
   "id": "39c39818-7b34-4296-ac04-c0dd012e6c39",
   "metadata": {},
   "outputs": [],
   "source": [
    "QiskitRuntimeService.save_account(token=\"AIP\",channel = 'ibm_quantum' ,overwrite=True)\n",
    "service = QiskitRuntimeService()"
   ]
  },
  {
   "cell_type": "markdown",
   "id": "01cc6968-2afd-47be-9b80-c36c3191bfdc",
   "metadata": {},
   "source": [
    "# Fininding availabe quantum processors according to the number of spins"
   ]
  },
  {
   "cell_type": "code",
   "execution_count": null,
   "id": "95fd72c3-fc00-4c28-8288-4f003d965f28",
   "metadata": {},
   "outputs": [],
   "source": [
    "# Set the number of spins (nodes)\n",
    "num_nodes =2 # Start with 8 qubits for real quantum device\n",
    "\n",
    "# List available backends\n",
    "backends = service.backends()\n",
    "for backend in backends:\n",
    "    print(backend.name)\n",
    "\n",
    "# Select a real quantum backend with at least num_nodes qubits\n",
    "backend = service.least_busy(min_num_qubits=num_nodes)\n",
    "print(f\"Using backend: {backend.name}\")"
   ]
  },
  {
   "cell_type": "code",
   "execution_count": null,
   "id": "ccbc4d90-3c79-4b5d-906f-2bfb76428ed7",
   "metadata": {},
   "outputs": [],
   "source": [
    "#if need to run the code on simulator not real quantum computer uncomment the following step\n",
    "#backend = AerSimulator(method='matrix_product_state')\n",
    "backend = StatevectorSimulator()\n",
    "#backend = QasmSimulator()\n",
    "backend"
   ]
  },
  {
   "cell_type": "markdown",
   "id": "1f50097e-57d5-419d-88fe-3b338f0fa602",
   "metadata": {},
   "source": [
    "# Preparing the Systsm"
   ]
  },
  {
   "cell_type": "code",
   "execution_count": null,
   "id": "c54a5b77-129d-4347-bd93-f691a5bc9598",
   "metadata": {},
   "outputs": [],
   "source": [
    "no_Spins = 20\n",
    "\n",
    "# Define The lattice \n",
    "line_latticec = LineLattice(num_nodes=no_Spins, boundary_condition=BoundaryCondition.PERIODIC)\n",
    "\n",
    "# Construct the Heisenberg Hamiltonian\n",
    "\n",
    "interaction_coefficients = (1,1,1) #J on x,y and z axis \n",
    "external_magntic_field = (0,0,0) # magnetic field\n",
    "\n",
    "heisenberg_model = HeisenbergModel (line_latticec, interaction_coefficients, external_magntic_field)\n",
    "\n",
    "#Generate spin Hamiltonian to map it on the qubits \n",
    "spin_ham = heisenberg_model.second_q_op()\n",
    "\n",
    "\n",
    "print (f'the system is defined, number of spins:  {no_Spins} \\n Hiesenberg Hamiltonian: {heisenberg_model.interaction_matrix()} \\n Spin Hamiltonian: {spin_ham}')"
   ]
  },
  {
   "cell_type": "markdown",
   "id": "8f1ae728-2aee-45fa-b157-793d2905ceb0",
   "metadata": {},
   "source": [
    "# Mapping the system into quantum circuit "
   ]
  },
  {
   "cell_type": "code",
   "execution_count": null,
   "id": "110eb72d-6787-48b9-a13a-f02ccfa72652",
   "metadata": {},
   "outputs": [],
   "source": [
    "mapper = LogarithmicMapper()\n",
    "qubit_op = mapper.map(spin_ham)\n",
    "\n",
    "print (f'The number of qubits in the qubit operator is {qubit_op.num_qubits}')"
   ]
  },
  {
   "cell_type": "markdown",
   "id": "7dc402c9-3705-41d1-8b9a-b72a54d8cca8",
   "metadata": {},
   "source": [
    "# Finding the Ground State Energy Using Viriational Quantum Eigensolver (VQE)\n",
    "VQE requires three inputs to find the miniumum eigenvalue (ground state energy): \\\n",
    "1- Estimator\\\n",
    "2- Ansatz\\\n",
    "3- Optimizer "
   ]
  },
  {
   "cell_type": "code",
   "execution_count": null,
   "id": "7903e001-38f4-40c2-86e4-95a3c39068d5",
   "metadata": {},
   "outputs": [],
   "source": [
    "# These steps to prepare the system for VQE \n",
    "estimator = Estimator(options={\"backend\":backend, \"shots\":1024})\n",
    "ansatz = EfficientSU2(qubit_op.num_qubits, reps=2)\n",
    "#print(f'number of qubits in ansatz is: {ansatz}')\n",
    "#This step to make the quantum circuit most efficient for the quantum process we chose previously\n",
    "transpiled_ansatz = transpile (ansatz,backend=backend,optimization_level=3)\n",
    "optimizer = SLSQP(maxiter=200) \n",
    "\n",
    "print(f\"Number of qubits in the qubit operator: {qubit_op.num_qubits}\")\n",
    "print(f\"Number of qubits in the ansatz: {ansatz.num_qubits}\") \n"
   ]
  },
  {
   "cell_type": "code",
   "execution_count": null,
   "id": "3d1e13b2-ea5b-4a3c-85c7-abea632d43e8",
   "metadata": {},
   "outputs": [],
   "source": [
    "vqe = VQE(estimator, ansatz , optimizer)\n",
    "\n",
    "start_time = time.time()\n",
    "#Compute the minimum eigenvalue \n",
    "result = vqe.compute_minimum_eigenvalue(qubit_op)\n",
    "end_time=time.time()\n",
    "\n",
    "time_taken = end_time - start_time \n",
    "\n",
    "total_energy= result.eigenvalue.real\n",
    "energy_per_spin = total_energy/no_Spins\n",
    "print (total_energy)\n",
    "print (energy_per_spin)\n",
    "print (f\"energy calcaulation time is: {time_taken} seconds\")"
   ]
  }
 ],
 "metadata": {
  "kernelspec": {
   "display_name": "Python 3 (ipykernel)",
   "language": "python",
   "name": "python3"
  },
  "language_info": {
   "codemirror_mode": {
    "name": "ipython",
    "version": 3
   },
   "file_extension": ".py",
   "mimetype": "text/x-python",
   "name": "python",
   "nbconvert_exporter": "python",
   "pygments_lexer": "ipython3",
   "version": "3.9.12"
  }
 },
 "nbformat": 4,
 "nbformat_minor": 5
}
